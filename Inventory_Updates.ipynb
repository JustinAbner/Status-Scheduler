{
 "cells": [
  {
   "cell_type": "code",
   "execution_count": 1,
   "id": "c5a242ea",
   "metadata": {},
   "outputs": [],
   "source": [
    "# Connecting to and scraping the website\n",
    "import requests\n",
    "from bs4 import BeautifulSoup\n",
    "\n",
    "# User created py files containing email login credentials and the website url and key words to search for\n",
    "import creds\n",
    "import site_data\n",
    "\n",
    "# Messaging packages\n",
    "import smtplib\n",
    "from email.message import EmailMessage\n",
    "\n",
    "# Packages for scheduling, providing the date and making the program sleep once run\n",
    "import datetime\n",
    "import schedule\n",
    "import time"
   ]
  },
  {
   "cell_type": "code",
   "execution_count": 2,
   "id": "31c6e34a",
   "metadata": {},
   "outputs": [],
   "source": [
    "# Function responsible for applying contents to the message and sending it\n",
    "def alert(subject, body, recipient):\n",
    "    msg = EmailMessage()\n",
    "    msg.set_content(body)\n",
    "    msg['subject'] = subject\n",
    "    msg['to'] = recipient\n",
    "    \n",
    "    user = creds.email\n",
    "    msg['from'] = user\n",
    "    password = creds.password\n",
    "    \n",
    "    server = smtplib.SMTP('smtp.gmail.com', 587)\n",
    "    server.starttls()\n",
    "    server.login(user, password)\n",
    "    server.send_message(msg)\n",
    "    \n",
    "    server.quit()"
   ]
  },
  {
   "cell_type": "code",
   "execution_count": 3,
   "id": "e57aea57",
   "metadata": {},
   "outputs": [],
   "source": [
    "# Storing site information and testing connection\n",
    "def connection():\n",
    "    try:\n",
    "        dpm_site = site_data.url\n",
    "        response = requests.get(dpm_site)\n",
    "        if response.ok:        \n",
    "            inventory_check(response)\n",
    "\n",
    "    except Exception as e:\n",
    "        print(f'oops\\n{e}')"
   ]
  },
  {
   "cell_type": "code",
   "execution_count": 4,
   "id": "f885815b",
   "metadata": {
    "scrolled": true
   },
   "outputs": [],
   "source": [
    "def inventory_check(response):\n",
    "    parser = BeautifulSoup(response.content, 'html.parser')\n",
    "    h2_lvl = parser.find_all('h2')\n",
    "\n",
    "    in_stock = []\n",
    "    want = site_data.key_words\n",
    "    for part in h2_lvl:\n",
    "        \n",
    "        # Iterating over the \"want\" variable as it is a list that contains multiple items/key search words\n",
    "        for w in want:\n",
    "            if w in part.text.lower():\n",
    "                in_stock.append(part.text)\n",
    "\n",
    "                \n",
    "    # msg/email sending information\n",
    "    subject = 'Part Updates'\n",
    "    recipient = creds.recipient\n",
    "   \n",
    "    \n",
    "    if in_stock:\n",
    "        in_stock.append(f'Automated Message\\n\\nITEM IN STOCK\\n\\nSite Checked at {datetime.datetime.now()}')\n",
    "        alert(subject, in_stock, recipient)"
   ]
  },
  {
   "cell_type": "code",
   "execution_count": null,
   "id": "17251300",
   "metadata": {},
   "outputs": [],
   "source": [
    "if __name__ == '__main__':\n",
    "    \n",
    "    # Setting the desired schedule to run the program\n",
    "    schedule.every().hour.do(connection)\n",
    "    \n",
    "    while True:\n",
    "        schedule.run_pending()\n",
    "        time.sleep(1)"
   ]
  },
  {
   "cell_type": "code",
   "execution_count": null,
   "id": "90ba24a0",
   "metadata": {},
   "outputs": [],
   "source": []
  }
 ],
 "metadata": {
  "kernelspec": {
   "display_name": "Python 3 (ipykernel)",
   "language": "python",
   "name": "python3"
  },
  "language_info": {
   "codemirror_mode": {
    "name": "ipython",
    "version": 3
   },
   "file_extension": ".py",
   "mimetype": "text/x-python",
   "name": "python",
   "nbconvert_exporter": "python",
   "pygments_lexer": "ipython3",
   "version": "3.11.4"
  }
 },
 "nbformat": 4,
 "nbformat_minor": 5
}
